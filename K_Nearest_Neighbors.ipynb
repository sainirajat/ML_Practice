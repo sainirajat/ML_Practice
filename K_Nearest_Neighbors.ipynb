{
 "cells": [
  {
   "cell_type": "code",
   "execution_count": 2,
   "metadata": {
    "collapsed": true
   },
   "outputs": [],
   "source": [
    "import numpy as np\n",
    "import matplotlib.pyplot as plt\n",
    "%matplotlib inline"
   ]
  },
  {
   "cell_type": "code",
   "execution_count": 3,
   "metadata": {
    "collapsed": false
   },
   "outputs": [
    {
     "name": "stdout",
     "output_type": "stream",
     "text": [
      "(500, 2)\n"
     ]
    }
   ],
   "source": [
    "## Input Data\n",
    "# Mean Vector - in 2 dimensional setting\n",
    "mean_01 = [1.0, 0.5]\n",
    "mean_02 = [6.0, 7.0]\n",
    "\n",
    "# Covariance Matrices - Measure of Variability about mean\n",
    "cov_01 = [[1.0, 0.1], [0.1, 1.2]]\n",
    "cov_02 = [[1.0, 0.1], [0.1, 1.0]]\n",
    "\n",
    "dist_01 = np.random.multivariate_normal(mean_01, cov_01, 500)\n",
    "dist_02 = np.random.multivariate_normal(mean_02, cov_02, 500)\n",
    "\n",
    "print dist_01.shape"
   ]
  },
  {
   "cell_type": "code",
   "execution_count": 4,
   "metadata": {
    "collapsed": false
   },
   "outputs": [
    {
     "data": {
      "image/png": "[encoded data removed]",
      "text/plain": [
       "<matplotlib.figure.Figure at 0x7f9a9782ec90>"
      ]
     },
     "metadata": {},
     "output_type": "display_data"
    }
   ],
   "source": [
    "plt.scatter(dist_01[:, 0], dist_01[:, 1], c='red')\n",
    "#plt.show()\n",
    "plt.scatter(dist_02[:, 0], dist_02[:, 1], c='green')\n",
    "plt.show()"
   ]
  },
  {
   "cell_type": "code",
   "execution_count": 5,
   "metadata": {
    "collapsed": false
   },
   "outputs": [
    {
     "name": "stdout",
     "output_type": "stream",
     "text": [
      "(1000, 3)\n",
      "9.861649047049585\n"
     ]
    }
   ],
   "source": [
    "# data matrix definition\n",
    "rows = dist_01.shape[0] + dist_02.shape[0]\n",
    "cols = dist_01.shape[1] + 1\n",
    "\n",
    "data = np.zeros((rows, cols))\n",
    "data[:dist_01.shape[0], :2] = dist_01\n",
    "data[:dist_01.shape[0], -1] = 0.0\n",
    "\n",
    "data[dist_01.shape[0]:, :2] = dist_02\n",
    "data[dist_01.shape[0]:, -1] = 1.0\n",
    "print data.shape\n",
    "print np.max(data)"
   ]
  },
  {
   "cell_type": "code",
   "execution_count": 6,
   "metadata": {
    "collapsed": false
   },
   "outputs": [
    {
     "name": "stdout",
     "output_type": "stream",
     "text": [
      "[[ 0.49726474 -0.91891729  0.        ]\n",
      " [ 4.84513162  8.32617631  1.        ]\n",
      " [ 1.34320429 -0.0443182   0.        ]\n",
      " [ 0.66858688 -1.41817982  0.        ]\n",
      " [ 0.99327876  1.98348991  0.        ]\n",
      " [ 5.69227118  7.86831815  1.        ]\n",
      " [-0.1706827  -0.57903163  0.        ]\n",
      " [ 2.80261202  5.84935859  1.        ]\n",
      " [ 0.98469901 -0.29534127  0.        ]\n",
      " [ 1.01805215  1.86481443  0.        ]]\n"
     ]
    }
   ],
   "source": [
    "np.random.shuffle(data)\n",
    "print data[:10]"
   ]
  },
  {
   "cell_type": "code",
   "execution_count": 8,
   "metadata": {
    "collapsed": false
   },
   "outputs": [
    {
     "name": "stdout",
     "output_type": "stream",
     "text": [
      "1.4142135623730951\n",
      "2.0\n"
     ]
    }
   ],
   "source": [
    "## Distance Function\n",
    "def distance_euclid(pt1, pt2):\n",
    "    d = np.sqrt(((pt1-pt2)**2).sum())\n",
    "    return d\n",
    "print distance_euclid(np.array([0.0, 0.0]), np.array([1.0, 1.0]))\n",
    "\n",
    "## Manhattan Distance Function - Correction Here\n",
    "def distance_manhat(pt1, pt2):\n",
    "    #d = abs((pt1-pt2).sum())\n",
    "    d = (abs(pt1-pt2)).sum()\n",
    "    return d\n",
    "\n",
    "print distance_manhat(np.array([-1.0, -1.0]), np.array([0.0, 0.0]))"
   ]
  },
  {
   "cell_type": "code",
   "execution_count": 42,
   "metadata": {
    "collapsed": false
   },
   "outputs": [
    {
     "name": "stdout",
     "output_type": "stream",
     "text": [
      "1.41421356237\n"
     ]
    }
   ],
   "source": [
    "pt1 = np.array([0.0, 0.0])\n",
    "pt2 = np.array([1.0, 1.0])\n",
    "dist = 0\n",
    "for ix in range(pt1.shape[0]):\n",
    "    val = (pt1[ix] - pt2[ix])**2\n",
    "    dist+=val\n",
    "dist = np.sqrt(dist)\n",
    "print dist"
   ]
  },
  {
   "cell_type": "code",
   "execution_count": 49,
   "metadata": {
    "collapsed": false
   },
   "outputs": [
    {
     "name": "stdout",
     "output_type": "stream",
     "text": [
      "600\n",
      "(600, 2)\n",
      "(400, 2)\n",
      "------------\n",
      "(array([ 0.,  1.]), array([313, 287]))\n",
      "[ 0.  1.]\n",
      "[313 287]\n",
      "313\n",
      "0\n",
      "0.0\n"
     ]
    }
   ],
   "source": [
    "## Testing and Training Split of the dataset\n",
    "split = int(0.60*data.shape[0])\n",
    "print split\n",
    "\n",
    "train_x = data[:split, :2]\n",
    "train_y = data[:split, -1]\n",
    "\n",
    "test_x = data[split:, :2]\n",
    "test_y = data[split:, -1]\n",
    "\n",
    "print train_x.shape\n",
    "print test_x.shape\n",
    "\n",
    "#print np.unique(train_y, return_counts=True)\n",
    "#print np.unique(test_y, return_counts=True)\n",
    "\n",
    "print '------------'\n",
    "freq = np.unique(train_y, return_counts=True)\n",
    "print freq\n",
    "print freq[0]\n",
    "print freq[1]\n",
    "\n",
    "print freq[1].max()\n",
    "print freq[1].argmax()\n",
    "\n",
    "ans = freq[0][freq[1].argmax()]\n",
    "print ans"
   ]
  },
  {
   "cell_type": "code",
   "execution_count": 78,
   "metadata": {
    "collapsed": true
   },
   "outputs": [],
   "source": [
    "def KNN(train_x, train_y, test_pt, k=5):\n",
    "    vals = []\n",
    "    for ix in range(train_x.shape[0]):\n",
    "        d = distance_euclid(train_x[ix], test_pt)\n",
    "        #d = distance_manhat(train_x[ix], test_pt)\n",
    "        vals.append([d, train_y[ix]])\n",
    "    \n",
    "    sorted_vals = sorted(vals, key=lambda r:r[0])\n",
    "    sorted_vals = np.array(sorted_vals)[:k]\n",
    "    labels = sorted_vals[:,-1]\n",
    "    freq = np.unique(labels, return_counts=True)\n",
    "    ans = freq[0][freq[1].argmax()]\n",
    "    \n",
    "    return ans"
   ]
  },
  {
   "cell_type": "code",
   "execution_count": 79,
   "metadata": {
    "collapsed": false
   },
   "outputs": [
    {
     "name": "stdout",
     "output_type": "stream",
     "text": [
      "1.0\n"
     ]
    }
   ],
   "source": [
    "test_pt1 = np.array([4.0, 4.5])\n",
    "ans = KNN(train_x,train_y, test_pt1, k=5)\n",
    "print ans"
   ]
  },
  {
   "cell_type": "code",
   "execution_count": 80,
   "metadata": {
    "collapsed": true
   },
   "outputs": [],
   "source": [
    "def get_acc(train_x, train_y, test_x, test_y, kx=5):\n",
    "    preds = []\n",
    "    for ix in range(test_x.shape[0]):\n",
    "        p = KNN(train_x, train_y, test_x[ix], k=kx)\n",
    "        preds.append(p)\n",
    "    preds = np.array(preds)\n",
    "    \n",
    "    res = np.array(preds==test_y)\n",
    "    print res.shape\n",
    "    acc = 100*float((preds==test_y).sum())/test_y.shape[0]\n",
    "    return acc"
   ]
  },
  {
   "cell_type": "code",
   "execution_count": 81,
   "metadata": {
    "collapsed": false
   },
   "outputs": [
    {
     "name": "stdout",
     "output_type": "stream",
     "text": [
      "(400,)\n",
      "100.0\n"
     ]
    }
   ],
   "source": [
    "print get_acc(train_x, train_y, test_x, test_y, kx=5)"
   ]
  },
  {
   "cell_type": "code",
   "execution_count": 82,
   "metadata": {
    "collapsed": true
   },
   "outputs": [],
   "source": [
    "import pandas as pd"
   ]
  },
  {
   "cell_type": "code",
   "execution_count": 83,
   "metadata": {
    "collapsed": false
   },
   "outputs": [
    {
     "name": "stdout",
     "output_type": "stream",
     "text": [
      "(60000, 785)\n"
     ]
    },
    {
     "data": {
      "text/html": [
       "<div>\n",
       "<table border=\"1\" class=\"dataframe\">\n",
       "  <thead>\n",
       "    <tr style=\"text-align: right;\">\n",
       "      <th></th>\n",
       "      <th>label</th>\n",
       "      <th>pixel1</th>\n",
       "      <th>pixel2</th>\n",
       "      <th>pixel3</th>\n",
       "      <th>pixel4</th>\n",
       "      <th>pixel5</th>\n",
       "      <th>pixel6</th>\n",
       "      <th>pixel7</th>\n",
       "      <th>pixel8</th>\n",
       "      <th>pixel9</th>\n",
       "      <th>...</th>\n",
       "      <th>pixel775</th>\n",
       "      <th>pixel776</th>\n",
       "      <th>pixel777</th>\n",
       "      <th>pixel778</th>\n",
       "      <th>pixel779</th>\n",
       "      <th>pixel780</th>\n",
       "      <th>pixel781</th>\n",
       "      <th>pixel782</th>\n",
       "      <th>pixel783</th>\n",
       "      <th>pixel784</th>\n",
       "    </tr>\n",
       "  </thead>\n",
       "  <tbody>\n",
       "    <tr>\n",
       "      <th>59997</th>\n",
       "      <td>8</td>\n",
       "      <td>0</td>\n",
       "      <td>0</td>\n",
       "      <td>0</td>\n",
       "      <td>0</td>\n",
       "      <td>0</td>\n",
       "      <td>0</td>\n",
       "      <td>0</td>\n",
       "      <td>0</td>\n",
       "      <td>0</td>\n",
       "      <td>...</td>\n",
       "      <td>160</td>\n",
       "      <td>162</td>\n",
       "      <td>163</td>\n",
       "      <td>135</td>\n",
       "      <td>94</td>\n",
       "      <td>0</td>\n",
       "      <td>0</td>\n",
       "      <td>0</td>\n",
       "      <td>0</td>\n",
       "      <td>0</td>\n",
       "    </tr>\n",
       "    <tr>\n",
       "      <th>59998</th>\n",
       "      <td>8</td>\n",
       "      <td>0</td>\n",
       "      <td>0</td>\n",
       "      <td>0</td>\n",
       "      <td>0</td>\n",
       "      <td>0</td>\n",
       "      <td>0</td>\n",
       "      <td>0</td>\n",
       "      <td>0</td>\n",
       "      <td>0</td>\n",
       "      <td>...</td>\n",
       "      <td>0</td>\n",
       "      <td>0</td>\n",
       "      <td>0</td>\n",
       "      <td>0</td>\n",
       "      <td>0</td>\n",
       "      <td>0</td>\n",
       "      <td>0</td>\n",
       "      <td>0</td>\n",
       "      <td>0</td>\n",
       "      <td>0</td>\n",
       "    </tr>\n",
       "    <tr>\n",
       "      <th>59999</th>\n",
       "      <td>7</td>\n",
       "      <td>0</td>\n",
       "      <td>0</td>\n",
       "      <td>0</td>\n",
       "      <td>0</td>\n",
       "      <td>0</td>\n",
       "      <td>0</td>\n",
       "      <td>0</td>\n",
       "      <td>0</td>\n",
       "      <td>0</td>\n",
       "      <td>...</td>\n",
       "      <td>0</td>\n",
       "      <td>0</td>\n",
       "      <td>0</td>\n",
       "      <td>0</td>\n",
       "      <td>0</td>\n",
       "      <td>0</td>\n",
       "      <td>0</td>\n",
       "      <td>0</td>\n",
       "      <td>0</td>\n",
       "      <td>0</td>\n",
       "    </tr>\n",
       "  </tbody>\n",
       "</table>\n",
       "<p>3 rows × 785 columns</p>\n",
       "</div>"
      ],
      "text/plain": [
       "       label  pixel1  pixel2  pixel3  pixel4  pixel5  pixel6  pixel7  pixel8  \\\n",
       "59997      8       0       0       0       0       0       0       0       0   \n",
       "59998      8       0       0       0       0       0       0       0       0   \n",
       "59999      7       0       0       0       0       0       0       0       0   \n",
       "\n",
       "       pixel9    ...     pixel775  pixel776  pixel777  pixel778  pixel779  \\\n",
       "59997       0    ...          160       162       163       135        94   \n",
       "59998       0    ...            0         0         0         0         0   \n",
       "59999       0    ...            0         0         0         0         0   \n",
       "\n",
       "       pixel780  pixel781  pixel782  pixel783  pixel784  \n",
       "59997         0         0         0         0         0  \n",
       "59998         0         0         0         0         0  \n",
       "59999         0         0         0         0         0  \n",
       "\n",
       "[3 rows x 785 columns]"
      ]
     },
     "execution_count": 83,
     "metadata": {},
     "output_type": "execute_result"
    }
   ],
   "source": [
    "fash_ds = pd.read_csv('/home/ayush/Documents/fashion-mnist_train.csv')\n",
    "fashion_data = fash_ds.values\n",
    "print fashion_data.shape\n",
    "\n",
    "fash_ds.tail(n=3)"
   ]
  },
  {
   "cell_type": "code",
   "execution_count": 64,
   "metadata": {
    "collapsed": false
   },
   "outputs": [
    {
     "name": "stdout",
     "output_type": "stream",
     "text": [
      "(785,)\n",
      "3\n"
     ]
    },
    {
     "data": {
      "image/png": "[encoded data removed]",
      "text/plain": [
       "<matplotlib.figure.Figure at 0x7fd64ac71410>"
      ]
     },
     "metadata": {},
     "output_type": "display_data"
    }
   ],
   "source": [
    "img_data = fashion_data[4]\n",
    "print img_data.shape\n",
    "label = img_data[0]\n",
    "img = img_data[1:].reshape((28, 28))\n",
    "print label\n",
    "plt.imshow(img)\n",
    "plt.show()"
   ]
  },
  {
   "cell_type": "code",
   "execution_count": 84,
   "metadata": {
    "collapsed": false
   },
   "outputs": [
    {
     "name": "stdout",
     "output_type": "stream",
     "text": [
      "1800\n",
      "(1800, 784)\n"
     ]
    }
   ],
   "source": [
    "## Test Train Split\n",
    "fash_data = fashion_data[:3000]\n",
    "\n",
    "split = int(0.60*fash_data.shape[0])\n",
    "print split\n",
    "\n",
    "fashion_train_x = fash_data[:split, 1:]\n",
    "fashion_train_y = fash_data[:split, 0]\n",
    "fashion_test_x = fash_data[split:, 1:]\n",
    "fashion_test_y = fash_data[split:, 0]\n",
    "\n",
    "print fashion_train_x.shape"
   ]
  },
  {
   "cell_type": "code",
   "execution_count": 85,
   "metadata": {
    "collapsed": false
   },
   "outputs": [
    {
     "name": "stdout",
     "output_type": "stream",
     "text": [
      "(1200,)\n",
      "79.9166666667\n"
     ]
    }
   ],
   "source": [
    "print get_acc(fashion_train_x, fashion_train_y, fashion_test_x, fashion_test_y, kx=5)"
   ]
  },
  {
   "cell_type": "code",
   "execution_count": 77,
   "metadata": {
    "collapsed": false
   },
   "outputs": [
    {
     "name": "stdout",
     "output_type": "stream",
     "text": [
      "(1200,)\n",
      "19.9166666667\n"
     ]
    }
   ],
   "source": [
    "print get_acc(fashion_train_x, fashion_train_y, fashion_test_x, fashion_test_y, kx=5)"
   ]
  },
  {
   "cell_type": "code",
   "execution_count": 68,
   "metadata": {
    "collapsed": true
   },
   "outputs": [],
   "source": [
    "import sklearn\n",
    "from sklearn.neighbors import KNeighborsClassifier"
   ]
  },
  {
   "cell_type": "code",
   "execution_count": 72,
   "metadata": {
    "collapsed": false
   },
   "outputs": [
    {
     "name": "stdout",
     "output_type": "stream",
     "text": [
      "79.9166666667\n"
     ]
    }
   ],
   "source": [
    "neigh = KNeighborsClassifier(n_neighbors=5)\n",
    "neigh.fit(fashion_train_x, fashion_train_y)\n",
    "print 100*neigh.score(fashion_test_x, fashion_test_y)"
   ]
  },
  {
   "cell_type": "code",
   "execution_count": null,
   "metadata": {
    "collapsed": true
   },
   "outputs": [],
   "source": []
  }
 ],
 "metadata": {
  "kernelspec": {
   "display_name": "Python 2",
   "language": "python",
   "name": "python2"
  },
  "language_info": {
   "codemirror_mode": {
    "name": "ipython",
    "version": 2
   },
   "file_extension": ".py",
   "mimetype": "text/x-python",
   "name": "python",
   "nbconvert_exporter": "python",
   "pygments_lexer": "ipython2",
   "version": "2.7.12"
  }
 },
 "nbformat": 4,
 "nbformat_minor": 2
}
