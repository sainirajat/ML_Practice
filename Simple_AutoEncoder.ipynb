{
 "cells": [
  {
   "cell_type": "code",
   "execution_count": 2,
   "metadata": {},
   "outputs": [
    {
     "name": "stderr",
     "output_type": "stream",
     "text": [
      "Using TensorFlow backend.\n",
      "/usr/local/lib/python2.7/dist-packages/h5py/__init__.py:34: FutureWarning: Conversion of the second argument of issubdtype from `float` to `np.floating` is deprecated. In future, it will be treated as `np.float64 == np.dtype(float).type`.\n",
      "  from ._conv import register_converters as _register_converters\n"
     ]
    }
   ],
   "source": [
    "import numpy as np\n",
    "import matplotlib.pyplot as plt\n",
    "%matplotlib inline\n",
    "import pandas as pd\n",
    "import keras\n",
    "from keras.layers import Dense, Activation, Input\n",
    "from keras.models import Model\n",
    "from keras.utils import np_utils"
   ]
  },
  {
   "cell_type": "code",
   "execution_count": 9,
   "metadata": {},
   "outputs": [
    {
     "name": "stdout",
     "output_type": "stream",
     "text": [
      "(8000, 784)\n"
     ]
    }
   ],
   "source": [
    "ds = pd.read_csv('./mnist_train.csv')\n",
    "data = ds.values[1000:9000,1:]/255.0\n",
    "print data.shape"
   ]
  },
  {
   "cell_type": "code",
   "execution_count": 10,
   "metadata": {},
   "outputs": [
    {
     "name": "stdout",
     "output_type": "stream",
     "text": [
      "____________________________________________________________________________________________________\n",
      "Layer (type)                     Output Shape          Param #     Connected to                     \n",
      "====================================================================================================\n",
      "input_3 (InputLayer)             (None, 784)           0                                            \n",
      "____________________________________________________________________________________________________\n",
      "dense_3 (Dense)                  (None, 100)           78500       input_3[0][0]                    \n",
      "____________________________________________________________________________________________________\n",
      "activation_3 (Activation)        (None, 100)           0           dense_3[0][0]                    \n",
      "____________________________________________________________________________________________________\n",
      "dense_4 (Dense)                  (None, 784)           79184       activation_3[0][0]               \n",
      "____________________________________________________________________________________________________\n",
      "activation_4 (Activation)        (None, 784)           0           dense_4[0][0]                    \n",
      "====================================================================================================\n",
      "Total params: 157,684\n",
      "Trainable params: 157,684\n",
      "Non-trainable params: 0\n",
      "____________________________________________________________________________________________________\n"
     ]
    }
   ],
   "source": [
    "## Model in Keras\n",
    "inp = Input(shape=(784,))\n",
    "h1 = Dense(100)\n",
    "a1 = Activation('sigmoid')\n",
    "y = Dense(784)\n",
    "ya = Activation('sigmoid')\n",
    "\n",
    "y_out = ya(y(a1(h1(inp))))\n",
    "\n",
    "model = Model(input=[inp], output=[y_out])\n",
    "\n",
    "model.summary()"
   ]
  },
  {
   "cell_type": "code",
   "execution_count": 11,
   "metadata": {
    "collapsed": true
   },
   "outputs": [],
   "source": [
    "model.compile(loss='MSE', optimizer='adam', metrics=['accuracy'])"
   ]
  },
  {
   "cell_type": "code",
   "execution_count": 12,
   "metadata": {},
   "outputs": [
    {
     "name": "stdout",
     "output_type": "stream",
     "text": [
      "6400\n",
      "(8000, 784)\n"
     ]
    }
   ],
   "source": [
    "split = int(0.8*data.shape[0])\n",
    "print split\n",
    "print data.shape"
   ]
  },
  {
   "cell_type": "code",
   "execution_count": 13,
   "metadata": {},
   "outputs": [
    {
     "name": "stdout",
     "output_type": "stream",
     "text": [
      "Train on 6400 samples, validate on 1600 samples\n",
      "Epoch 1/50\n",
      "2s - loss: 0.0686 - acc: 0.0122 - val_loss: 0.0559 - val_acc: 0.0169\n",
      "Epoch 2/50\n",
      "2s - loss: 0.0477 - acc: 0.0173 - val_loss: 0.0423 - val_acc: 0.0150\n",
      "Epoch 3/50\n",
      "2s - loss: 0.0377 - acc: 0.0153 - val_loss: 0.0350 - val_acc: 0.0106\n",
      "Epoch 4/50\n",
      "2s - loss: 0.0316 - acc: 0.0108 - val_loss: 0.0301 - val_acc: 0.0106\n",
      "Epoch 5/50\n",
      "2s - loss: 0.0273 - acc: 0.0088 - val_loss: 0.0264 - val_acc: 0.0063\n",
      "Epoch 6/50\n",
      "2s - loss: 0.0240 - acc: 0.0094 - val_loss: 0.0235 - val_acc: 0.0100\n",
      "Epoch 7/50\n",
      "2s - loss: 0.0213 - acc: 0.0113 - val_loss: 0.0211 - val_acc: 0.0100\n",
      "Epoch 8/50\n",
      "2s - loss: 0.0191 - acc: 0.0105 - val_loss: 0.0190 - val_acc: 0.0094\n",
      "Epoch 9/50\n",
      "2s - loss: 0.0172 - acc: 0.0114 - val_loss: 0.0173 - val_acc: 0.0088\n",
      "Epoch 10/50\n",
      "2s - loss: 0.0156 - acc: 0.0128 - val_loss: 0.0158 - val_acc: 0.0106\n",
      "Epoch 11/50\n",
      "2s - loss: 0.0142 - acc: 0.0141 - val_loss: 0.0146 - val_acc: 0.0113\n",
      "Epoch 12/50\n",
      "2s - loss: 0.0131 - acc: 0.0139 - val_loss: 0.0136 - val_acc: 0.0125\n",
      "Epoch 13/50\n",
      "2s - loss: 0.0122 - acc: 0.0138 - val_loss: 0.0127 - val_acc: 0.0119\n",
      "Epoch 14/50\n",
      "2s - loss: 0.0113 - acc: 0.0117 - val_loss: 0.0120 - val_acc: 0.0125\n",
      "Epoch 15/50\n",
      "2s - loss: 0.0106 - acc: 0.0138 - val_loss: 0.0113 - val_acc: 0.0150\n",
      "Epoch 16/50\n",
      "2s - loss: 0.0100 - acc: 0.0134 - val_loss: 0.0107 - val_acc: 0.0131\n",
      "Epoch 17/50\n",
      "2s - loss: 0.0095 - acc: 0.0128 - val_loss: 0.0102 - val_acc: 0.0125\n",
      "Epoch 18/50\n",
      "2s - loss: 0.0090 - acc: 0.0136 - val_loss: 0.0097 - val_acc: 0.0138\n",
      "Epoch 19/50\n",
      "2s - loss: 0.0085 - acc: 0.0142 - val_loss: 0.0094 - val_acc: 0.0138\n",
      "Epoch 20/50\n",
      "2s - loss: 0.0081 - acc: 0.0131 - val_loss: 0.0090 - val_acc: 0.0113\n",
      "Epoch 21/50\n",
      "2s - loss: 0.0078 - acc: 0.0145 - val_loss: 0.0086 - val_acc: 0.0113\n",
      "Epoch 22/50\n",
      "2s - loss: 0.0074 - acc: 0.0131 - val_loss: 0.0083 - val_acc: 0.0150\n",
      "Epoch 23/50\n",
      "2s - loss: 0.0071 - acc: 0.0153 - val_loss: 0.0080 - val_acc: 0.0156\n",
      "Epoch 24/50\n",
      "2s - loss: 0.0067 - acc: 0.0159 - val_loss: 0.0077 - val_acc: 0.0138\n",
      "Epoch 25/50\n",
      "2s - loss: 0.0065 - acc: 0.0144 - val_loss: 0.0074 - val_acc: 0.0144\n",
      "Epoch 26/50\n",
      "2s - loss: 0.0062 - acc: 0.0161 - val_loss: 0.0071 - val_acc: 0.0125\n",
      "Epoch 27/50\n",
      "2s - loss: 0.0059 - acc: 0.0156 - val_loss: 0.0068 - val_acc: 0.0144\n",
      "Epoch 28/50\n",
      "2s - loss: 0.0057 - acc: 0.0159 - val_loss: 0.0066 - val_acc: 0.0138\n",
      "Epoch 29/50\n",
      "2s - loss: 0.0054 - acc: 0.0147 - val_loss: 0.0064 - val_acc: 0.0131\n",
      "Epoch 30/50\n",
      "2s - loss: 0.0052 - acc: 0.0156 - val_loss: 0.0062 - val_acc: 0.0125\n",
      "Epoch 31/50\n",
      "2s - loss: 0.0050 - acc: 0.0148 - val_loss: 0.0060 - val_acc: 0.0163\n",
      "Epoch 32/50\n",
      "2s - loss: 0.0048 - acc: 0.0138 - val_loss: 0.0058 - val_acc: 0.0169\n",
      "Epoch 33/50\n",
      "2s - loss: 0.0046 - acc: 0.0136 - val_loss: 0.0056 - val_acc: 0.0131\n",
      "Epoch 34/50\n",
      "2s - loss: 0.0045 - acc: 0.0138 - val_loss: 0.0055 - val_acc: 0.0156\n",
      "Epoch 35/50\n",
      "2s - loss: 0.0043 - acc: 0.0139 - val_loss: 0.0053 - val_acc: 0.0181\n",
      "Epoch 36/50\n",
      "2s - loss: 0.0042 - acc: 0.0134 - val_loss: 0.0052 - val_acc: 0.0150\n",
      "Epoch 37/50\n",
      "2s - loss: 0.0041 - acc: 0.0134 - val_loss: 0.0051 - val_acc: 0.0163\n",
      "Epoch 38/50\n",
      "2s - loss: 0.0040 - acc: 0.0127 - val_loss: 0.0050 - val_acc: 0.0181\n",
      "Epoch 39/50\n",
      "2s - loss: 0.0038 - acc: 0.0113 - val_loss: 0.0049 - val_acc: 0.0163\n",
      "Epoch 40/50\n",
      "2s - loss: 0.0037 - acc: 0.0123 - val_loss: 0.0048 - val_acc: 0.0150\n",
      "Epoch 41/50\n",
      "2s - loss: 0.0037 - acc: 0.0134 - val_loss: 0.0047 - val_acc: 0.0181\n",
      "Epoch 42/50\n",
      "2s - loss: 0.0036 - acc: 0.0141 - val_loss: 0.0046 - val_acc: 0.0156\n",
      "Epoch 43/50\n",
      "2s - loss: 0.0035 - acc: 0.0122 - val_loss: 0.0046 - val_acc: 0.0169\n",
      "Epoch 44/50\n",
      "2s - loss: 0.0034 - acc: 0.0125 - val_loss: 0.0045 - val_acc: 0.0144\n",
      "Epoch 45/50\n",
      "2s - loss: 0.0034 - acc: 0.0127 - val_loss: 0.0045 - val_acc: 0.0163\n",
      "Epoch 46/50\n",
      "2s - loss: 0.0033 - acc: 0.0122 - val_loss: 0.0044 - val_acc: 0.0169\n",
      "Epoch 47/50\n",
      "2s - loss: 0.0032 - acc: 0.0122 - val_loss: 0.0043 - val_acc: 0.0163\n",
      "Epoch 48/50\n",
      "2s - loss: 0.0032 - acc: 0.0111 - val_loss: 0.0043 - val_acc: 0.0150\n",
      "Epoch 49/50\n",
      "2s - loss: 0.0031 - acc: 0.0141 - val_loss: 0.0042 - val_acc: 0.0150\n",
      "Epoch 50/50\n",
      "2s - loss: 0.0031 - acc: 0.0128 - val_loss: 0.0042 - val_acc: 0.0175\n"
     ]
    },
    {
     "data": {
      "text/plain": [
       "<keras.callbacks.History at 0x7f3eb16afcd0>"
      ]
     },
     "execution_count": 13,
     "metadata": {},
     "output_type": "execute_result"
    }
   ],
   "source": [
    "model.fit(data[:split], data[:split], batch_size=15, nb_epoch=50, verbose=2, validation_data=(data[split:], data[split:]))"
   ]
  },
  {
   "cell_type": "code",
   "execution_count": 8,
   "metadata": {
    "collapsed": true
   },
   "outputs": [],
   "source": [
    "## Encoder\n",
    "a2 = Activation('sigmoid')\n",
    "enc_out = a2(h1(inp))\n",
    "encoder = Model(input=[inp], output=[enc_out])\n",
    "\n",
    "## Decoder\n",
    "dec_inp = Input(shape=(100,))\n",
    "dec_out = ya(y(a1(dec_inp)))\n",
    "decoder = Model(input=[dec_inp], output=[dec_out])"
   ]
  },
  {
   "cell_type": "code",
   "execution_count": 18,
   "metadata": {},
   "outputs": [
    {
     "name": "stdout",
     "output_type": "stream",
     "text": [
      "(1000, 784)\n",
      "(1000, 100)\n",
      "(1000, 784)\n"
     ]
    }
   ],
   "source": [
    "data_pred = data[:1000]\n",
    "print data_pred.shape\n",
    "ex = encoder.predict(data_pred)\n",
    "print ex.shape\n",
    "\n",
    "dx = decoder.predict(ex)\n",
    "print dx.shape"
   ]
  },
  {
   "cell_type": "code",
   "execution_count": 21,
   "metadata": {},
   "outputs": [
    {
     "name": "stdout",
     "output_type": "stream",
     "text": [
      "502\n"
     ]
    },
    {
     "data": {
      "image/png": "[encoded data removed]",
      "text/plain": [
       "<matplotlib.figure.Figure at 0x7f3eadae7410>"
      ]
     },
     "metadata": {},
     "output_type": "display_data"
    },
    {
     "data": {
      "image/png": "[encoded data removed]",
      "text/plain": [
       "<matplotlib.figure.Figure at 0x7f3eada064d0>"
      ]
     },
     "metadata": {},
     "output_type": "display_data"
    }
   ],
   "source": [
    "n = np.random.choice(1000)\n",
    "print n\n",
    "plt.imshow(data[n].reshape((28, 28)), cmap='gray')\n",
    "plt.show()\n",
    "plt.imshow(dx[n].reshape((28, 28)), cmap='gray')\n",
    "plt.show()"
   ]
  }
 ],
 "metadata": {
  "kernelspec": {
   "display_name": "Python 2",
   "language": "python",
   "name": "python2"
  },
  "language_info": {
   "codemirror_mode": {
    "name": "ipython",
    "version": 2
   },
   "file_extension": ".py",
   "mimetype": "text/x-python",
   "name": "python",
   "nbconvert_exporter": "python",
   "pygments_lexer": "ipython2",
   "version": "2.7.14"
  }
 },
 "nbformat": 4,
 "nbformat_minor": 2
}
