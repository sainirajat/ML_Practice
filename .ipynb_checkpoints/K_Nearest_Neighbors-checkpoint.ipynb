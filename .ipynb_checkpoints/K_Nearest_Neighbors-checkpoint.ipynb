{
 "cells": [
  {
   "cell_type": "code",
   "execution_count": 1,
   "metadata": {},
   "outputs": [],
   "source": [
    "import numpy as np\n",
    "import matplotlib.pyplot as plt\n",
    "%matplotlib inline"
   ]
  },
  {
   "cell_type": "code",
   "execution_count": 2,
   "metadata": {},
   "outputs": [
    {
     "name": "stdout",
     "output_type": "stream",
     "text": [
      "(500, 2)\n"
     ]
    }
   ],
   "source": [
    "## Input Data\n",
    "mean_01 = [1.0, 0.5]\n",
    "mean_02 = [6.0, 7.0]\n",
    "\n",
    "# Covariance Matrices - Measure of Variability about mean\n",
    "cov_01 = [[2.0, 0.4], [0.4, 2.0]]\n",
    "cov_02 = [[5.0, 0.4], [0.4, 5.0]]\n",
    "\n",
    "dist_01 = np.random.multivariate_normal(mean_01, cov_01, 500)\n",
    "dist_02 = np.random.multivariate_normal(mean_02, cov_02, 500)\n",
    "\n",
    "print dist_01.shape"
   ]
  },
  {
   "cell_type": "code",
   "execution_count": 3,
   "metadata": {},
   "outputs": [
    {
     "data": {
      "image/png": "[encoded data removed]",
      "text/plain": [
       "<matplotlib.figure.Figure at 0x105cdc150>"
      ]
     },
     "metadata": {},
     "output_type": "display_data"
    }
   ],
   "source": [
    "plt.scatter(dist_01[:, 0], dist_01[:, 1], c='red')\n",
    "#plt.show()\n",
    "plt.scatter(dist_02[:, 0], dist_02[:, 1], c='green')\n",
    "plt.show()"
   ]
  },
  {
   "cell_type": "code",
   "execution_count": 4,
   "metadata": {},
   "outputs": [
    {
     "name": "stdout",
     "output_type": "stream",
     "text": [
      "(1000, 3)\n",
      "13.9518761234\n"
     ]
    }
   ],
   "source": [
    "# data matrix definition\n",
    "rows = dist_01.shape[0] + dist_02.shape[0]\n",
    "cols = dist_01.shape[1] + 1\n",
    "\n",
    "data = np.zeros((rows, cols))\n",
    "data[:dist_01.shape[0], :2] = dist_01\n",
    "data[:dist_01.shape[0], -1] = 0.0\n",
    "\n",
    "data[dist_01.shape[0]:, :2] = dist_02\n",
    "data[dist_01.shape[0]:, -1] = 1.0\n",
    "print data.shape\n",
    "print np.max(data)"
   ]
  },
  {
   "cell_type": "code",
   "execution_count": 5,
   "metadata": {},
   "outputs": [
    {
     "name": "stdout",
     "output_type": "stream",
     "text": [
      "[[  1.79150253   0.43483545   0.        ]\n",
      " [  8.01639838   4.67487922   1.        ]\n",
      " [  5.38528155   4.98452774   1.        ]\n",
      " [  1.2986188    2.26818929   0.        ]\n",
      " [ 10.47764879   5.21810968   1.        ]\n",
      " [  6.85549139   3.33962015   1.        ]\n",
      " [  3.24421937   4.64335789   1.        ]\n",
      " [  4.93777187   9.9950177    1.        ]\n",
      " [  4.31949993   8.38716208   1.        ]\n",
      " [  8.27569915   4.44749821   1.        ]]\n"
     ]
    }
   ],
   "source": [
    "np.random.shuffle(data)\n",
    "print data[:10]"
   ]
  },
  {
   "cell_type": "code",
   "execution_count": 6,
   "metadata": {},
   "outputs": [
    {
     "name": "stdout",
     "output_type": "stream",
     "text": [
      "1.41421356237\n",
      "2.0\n"
     ]
    }
   ],
   "source": [
    "## Distance Function\n",
    "def distance_euclid(pt1, pt2):\n",
    "    d = np.sqrt(((pt1-pt2)**2).sum())\n",
    "    return d\n",
    "print distance_euclid(np.array([0.0, 0.0]), np.array([1.0, 1.0]))\n",
    "\n",
    "## Manhattan Distance Function - Correction Here\n",
    "def distance_manhat(pt1, pt2):\n",
    "    #d = abs((pt1-pt2).sum())\n",
    "    d = (abs(pt1-pt2)).sum()\n",
    "    return d\n",
    "\n",
    "print distance_manhat(np.array([-1.0, -1.0]), np.array([0.0, 0.0]))"
   ]
  },
  {
   "cell_type": "code",
   "execution_count": 7,
   "metadata": {},
   "outputs": [
    {
     "name": "stdout",
     "output_type": "stream",
     "text": [
      "1.41421356237\n"
     ]
    }
   ],
   "source": [
    "pt1 = np.array([0.0, 0.0])\n",
    "pt2 = np.array([1.0, 1.0])\n",
    "dist = 0\n",
    "for ix in range(pt1.shape[0]):\n",
    "    val = (pt1[ix] - pt2[ix])**2\n",
    "    dist+=val\n",
    "dist = np.sqrt(dist)\n",
    "print dist"
   ]
  },
  {
   "cell_type": "code",
   "execution_count": 8,
   "metadata": {},
   "outputs": [
    {
     "name": "stdout",
     "output_type": "stream",
     "text": [
      "700\n",
      "(700, 2)\n",
      "(300, 2)\n",
      "------------\n",
      "(array([ 0.,  1.]), array([356, 344]))\n",
      "[ 0.  1.]\n",
      "[356 344]\n",
      "356\n",
      "0\n",
      "0.0\n"
     ]
    }
   ],
   "source": [
    "## Testing and Training Split of the dataset\n",
    "split = int(0.70*data.shape[0])\n",
    "print split\n",
    "\n",
    "train_x = data[:split, :2]\n",
    "train_y = data[:split, -1]\n",
    "\n",
    "test_x = data[split:, :2]\n",
    "test_y = data[split:, -1]\n",
    "\n",
    "print train_x.shape\n",
    "print test_x.shape\n",
    "\n",
    "#print np.unique(train_y, return_counts=True)\n",
    "#print np.unique(test_y, return_counts=True)\n",
    "\n",
    "print '------------'\n",
    "freq = np.unique(train_y, return_counts=True)\n",
    "print freq\n",
    "print freq[0]\n",
    "print freq[1]\n",
    "\n",
    "print freq[1].max()\n",
    "print freq[1].argmax()\n",
    "\n",
    "ans = freq[0][freq[1].argmax()]\n",
    "print ans"
   ]
  },
  {
   "cell_type": "code",
   "execution_count": 9,
   "metadata": {},
   "outputs": [],
   "source": [
    "def KNN(train_x, train_y, test_pt, k=5):\n",
    "    vals = []\n",
    "    for ix in range(train_x.shape[0]):\n",
    "        d = distance_euclid(train_x[ix], test_pt)\n",
    "        #d = distance_manhat(train_x[ix], test_pt)\n",
    "        vals.append([d, train_y[ix]])\n",
    "    \n",
    "    sorted_vals = sorted(vals, key=lambda r:r[0])\n",
    "    sorted_vals = np.array(sorted_vals)[:k]\n",
    "    labels = sorted_vals[:,-1]\n",
    "    freq = np.unique(labels, return_counts=True)\n",
    "    ans = freq[0][freq[1].argmax()]\n",
    "    \n",
    "    return ans"
   ]
  },
  {
   "cell_type": "code",
   "execution_count": 10,
   "metadata": {},
   "outputs": [
    {
     "name": "stdout",
     "output_type": "stream",
     "text": [
      "1.0\n"
     ]
    }
   ],
   "source": [
    "test_pt1 = np.array([4.0, 4.5])\n",
    "ans = KNN(train_x,train_y, test_pt1, k=5)\n",
    "print ans"
   ]
  },
  {
   "cell_type": "code",
   "execution_count": 11,
   "metadata": {},
   "outputs": [],
   "source": [
    "def get_acc(train_x, train_y, test_x, test_y, kx=5):\n",
    "    preds = []\n",
    "    for ix in range(test_x.shape[0]):\n",
    "        p = KNN(train_x, train_y, test_x[ix], k=kx)\n",
    "        preds.append(p)\n",
    "    preds = np.array(preds)\n",
    "    \n",
    "    res = np.array(preds==test_y)\n",
    "    print res.shape\n",
    "    acc = 100*float((preds==test_y).sum())/test_y.shape[0]\n",
    "    return acc"
   ]
  },
  {
   "cell_type": "code",
   "execution_count": 12,
   "metadata": {},
   "outputs": [
    {
     "name": "stdout",
     "output_type": "stream",
     "text": [
      "(300,)\n",
      "98.0\n"
     ]
    }
   ],
   "source": [
    "print get_acc(train_x, train_y, test_x, test_y, kx=5)"
   ]
  },
  {
   "cell_type": "code",
   "execution_count": null,
   "metadata": {},
   "outputs": [],
   "source": []
  }
 ],
 "metadata": {
  "kernelspec": {
   "display_name": "Python 2",
   "language": "python",
   "name": "python2"
  },
  "language_info": {
   "codemirror_mode": {
    "name": "ipython",
    "version": 2
   },
   "file_extension": ".py",
   "mimetype": "text/x-python",
   "name": "python",
   "nbconvert_exporter": "python",
   "pygments_lexer": "ipython2",
   "version": "2.7.14"
  }
 },
 "nbformat": 4,
 "nbformat_minor": 2
}
