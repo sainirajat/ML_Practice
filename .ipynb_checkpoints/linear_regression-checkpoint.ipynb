{
 "cells": [
  {
   "cell_type": "code",
   "execution_count": 1,
   "metadata": {},
   "outputs": [],
   "source": [
    "import numpy as np\n",
    "import matplotlib.pyplot as plt\n",
    "%matplotlib inline\n",
    "from sklearn.datasets import make_regression"
   ]
  },
  {
   "cell_type": "code",
   "execution_count": 2,
   "metadata": {},
   "outputs": [
    {
     "name": "stdout",
     "output_type": "stream",
     "text": [
      "(350, 1)\n",
      "(350,)\n"
     ]
    }
   ],
   "source": [
    "data_x,data_y = make_regression(n_features=1,n_samples=350,noise=14.2,bias=2.0)\n",
    "print data_x.shape\n",
    "print data_y.shape"
   ]
  },
  {
   "cell_type": "code",
   "execution_count": 3,
   "metadata": {},
   "outputs": [
    {
     "data": {
      "image/png": "[encoded data removed]",
      "text/plain": [
       "<matplotlib.figure.Figure at 0x108457c50>"
      ]
     },
     "metadata": {},
     "output_type": "display_data"
    }
   ],
   "source": [
    "plt.scatter(data_x,data_y,c='b')\n",
    "plt.show()"
   ]
  },
  {
   "cell_type": "code",
   "execution_count": 4,
   "metadata": {},
   "outputs": [
    {
     "name": "stdout",
     "output_type": "stream",
     "text": [
      "280\n",
      "(280, 1) (280,)\n",
      "(70, 1) (70,)\n"
     ]
    }
   ],
   "source": [
    "split = int(0.80*data_x.shape[0])\n",
    "x_train = data_x[:split]\n",
    "y_train = data_y[:split]\n",
    "x_test = data_x[split:]\n",
    "y_test = data_y[split:]\n",
    "print split\n",
    "print x_train.shape,y_train.shape\n",
    "print x_test.shape,y_test.shape"
   ]
  },
  {
   "cell_type": "code",
   "execution_count": 10,
   "metadata": {},
   "outputs": [],
   "source": [
    "def hypothesis(x,w):\n",
    "    return w[0]*1 + w[1]*x\n",
    "\n",
    "def cost_function(x,w, y_true):\n",
    "    err = 0.0\n",
    "    m = x.shape[0]\n",
    "    \n",
    "    for ix in range(m):\n",
    "        err += (y_true[ix]-hypothesis(x[ix],w))**2\n",
    "    \n",
    "    err = err/2*m\n",
    "    return err"
   ]
  },
  {
   "cell_type": "code",
   "execution_count": 11,
   "metadata": {},
   "outputs": [],
   "source": [
    "def get_grad(x,w,y_true):\n",
    "    grad_0 = 0.0\n",
    "    grad_1 = 0.0\n",
    "    \n",
    "    m = x.shape[0]\n",
    "    \n",
    "    for ix in range(m):\n",
    "        grad_0 += (y_true[ix] - hypothesis(x[ix],w))*(-1)\n",
    "        grad_1 += (y_true[ix] - hypothesis(x[ix],w))*(-1*x[ix])\n",
    "    \n",
    "    grad_0 = grad_0/m\n",
    "    grad_1 = grad_1/m\n",
    "    \n",
    "    return [grad_0,grad_1]"
   ]
  },
  {
   "cell_type": "code",
   "execution_count": 12,
   "metadata": {},
   "outputs": [],
   "source": [
    "def gradient_descent(x,w,y_true, learning_rate = 0.1):\n",
    "    error = cost_function(x,w,y_true)\n",
    "    \n",
    "    [grad_0,grad_1] = get_grad(x,w,y_true)\n",
    "    \n",
    "    w[0] = w[0] - learning_rate*grad_0\n",
    "    w[1] = w[1] - learning_rate*grad_1\n",
    "    \n",
    "    return error, w"
   ]
  },
  {
   "cell_type": "code",
   "execution_count": 13,
   "metadata": {},
   "outputs": [],
   "source": [
    "#initialising weights and loss\n",
    "W = np.array([0.1,0.1])\n",
    "loss = []"
   ]
  },
  {
   "cell_type": "code",
   "execution_count": 14,
   "metadata": {},
   "outputs": [
    {
     "name": "stdout",
     "output_type": "stream",
     "text": [
      "[  1.17646291  79.10234512]\n"
     ]
    }
   ],
   "source": [
    "#to find weights\n",
    "num_of_epoch = 500\n",
    "for ix in range(num_of_epoch):\n",
    "    err,w = gradient_descent(w=W,x=x_train,y_true=y_train,learning_rate=0.2)\n",
    "    loss.append(err)\n",
    "print W"
   ]
  },
  {
   "cell_type": "code",
   "execution_count": 15,
   "metadata": {},
   "outputs": [
    {
     "data": {
      "image/png": "[encoded data removed]",
      "text/plain": [
       "<matplotlib.figure.Figure at 0x10862c090>"
      ]
     },
     "metadata": {},
     "output_type": "display_data"
    }
   ],
   "source": [
    "plt.plot(loss)\n",
    "plt.show()"
   ]
  },
  {
   "cell_type": "code",
   "execution_count": 16,
   "metadata": {},
   "outputs": [],
   "source": [
    "#now using predefined library\n",
    "from sklearn.linear_model import LinearRegression"
   ]
  },
  {
   "cell_type": "code",
   "execution_count": 17,
   "metadata": {},
   "outputs": [
    {
     "name": "stderr",
     "output_type": "stream",
     "text": [
      "/Library/Frameworks/Python.framework/Versions/2.7/lib/python2.7/site-packages/scipy/linalg/basic.py:1226: RuntimeWarning: internal gelsd driver lwork query error, required iwork dimension not returned. This is likely the result of LAPACK bug 0038, fixed in LAPACK 3.2.2 (released July 21, 2010). Falling back to 'gelss' driver.\n",
      "  warnings.warn(mesg, RuntimeWarning)\n"
     ]
    },
    {
     "data": {
      "text/plain": [
       "LinearRegression(copy_X=True, fit_intercept=True, n_jobs=1, normalize=False)"
      ]
     },
     "execution_count": 17,
     "metadata": {},
     "output_type": "execute_result"
    }
   ],
   "source": [
    "lr = LinearRegression()\n",
    "lr.fit(x_train,y_train)"
   ]
  },
  {
   "cell_type": "code",
   "execution_count": 18,
   "metadata": {},
   "outputs": [
    {
     "data": {
      "text/plain": [
       "0.97327028156918383"
      ]
     },
     "execution_count": 18,
     "metadata": {},
     "output_type": "execute_result"
    }
   ],
   "source": [
    "lr.score(x_test,y_test)"
   ]
  },
  {
   "cell_type": "code",
   "execution_count": null,
   "metadata": {},
   "outputs": [],
   "source": []
  }
 ],
 "metadata": {
  "kernelspec": {
   "display_name": "Python 2",
   "language": "python",
   "name": "python2"
  },
  "language_info": {
   "codemirror_mode": {
    "name": "ipython",
    "version": 2
   },
   "file_extension": ".py",
   "mimetype": "text/x-python",
   "name": "python",
   "nbconvert_exporter": "python",
   "pygments_lexer": "ipython2",
   "version": "2.7.14"
  }
 },
 "nbformat": 4,
 "nbformat_minor": 2
}
